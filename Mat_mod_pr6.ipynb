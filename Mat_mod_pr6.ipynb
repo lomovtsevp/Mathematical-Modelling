{
  "nbformat": 4,
  "nbformat_minor": 0,
  "metadata": {
    "colab": {
      "name": "Mat_mod_pr6.ipynb",
      "provenance": [],
      "collapsed_sections": [],
      "authorship_tag": "ABX9TyM0zyIEE1etmYDP7bhYM+yM",
      "include_colab_link": true
    },
    "kernelspec": {
      "name": "python3",
      "display_name": "Python 3"
    },
    "language_info": {
      "name": "python"
    }
  },
  "cells": [
    {
      "cell_type": "markdown",
      "metadata": {
        "id": "view-in-github",
        "colab_type": "text"
      },
      "source": [
        "<a href=\"https://colab.research.google.com/github/lomovtsevp/Mathematical-Modelling/blob/main/Mat_mod_pr6.ipynb\" target=\"_parent\"><img src=\"https://colab.research.google.com/assets/colab-badge.svg\" alt=\"Open In Colab\"/></a>"
      ]
    },
    {
      "cell_type": "code",
      "source": [
        "import numpy as np\n",
        "\n",
        "def transposeMatrix(m):\n",
        "    return list(map(list, zip(*m)))\n",
        "\n",
        "def getMatrixMinor(m, i, j):\n",
        "  #Вычеркивание j строки\n",
        "    return [row[:j] + row[j+1:] for row in (m[:i]+m[i+1:])]\n",
        "\n",
        "def getMatrixDeterminant(m):\n",
        "    #Конец рекурсии  - вычисление определителя 2х2\n",
        "    if len(m) == 2:\n",
        "        return m[0][0] * m[1][1] - m[0][1] * m[1][0]\n",
        "\n",
        "    determinant = 0\n",
        "    for c in range(len(m)):\n",
        "        determinant += ((-1) ** c) * m[0][c] * getMatrixDeterminant(getMatrixMinor(m, 0, c))\n",
        "    return determinant\n",
        "\n",
        "def getMatrixInverse(m):\n",
        "    determinant = getMatrixDeterminant(m)\n",
        "    #Обратная матрица для матрицы 2х2\n",
        "    if len(m) == 2:\n",
        "        return [[m[1][1] / determinant, -1 * m[0][1] / determinant],\n",
        "                [-1 * m[1][0] / determinant, m[0][0] / determinant]]\n",
        "\n",
        "    #Найдем матрицу алгебраических дополнений и поделим ее на определитель матрицы\n",
        "    alg_dops = []\n",
        "    for r in range(len(m)):\n",
        "        algdopRow = []\n",
        "        for c in range(len(m)):\n",
        "            minor = getMatrixMinor(m, r, c)\n",
        "            algdopRow.append(((-1) ** (r + c)) * getMatrixDeterminant(minor))\n",
        "        alg_dops.append(algdopRow)\n",
        "    union_matrix = transposeMatrix(alg_dops)\n",
        "    for r in range(len(alg_dops)):\n",
        "        for c in range(len(alg_dops)):\n",
        "            union_matrix[r][c] = union_matrix[r][c] / determinant\n",
        "    inverse_matrix = union_matrix\n",
        "    return inverse_matrix\n",
        "\n",
        "\n",
        "def SLAU(A, B):\n",
        "  return np.array(getMatrixInverse(A)) @ np.array(B)"
      ],
      "metadata": {
        "id": "79t3Iqx5Z9cN"
      },
      "execution_count": null,
      "outputs": []
    },
    {
      "cell_type": "code",
      "source": [
        "m = int(input('Размерность матрицы '))\n",
        "A = []\n",
        "for i in range(m):\n",
        "  A.append(list(map(float, input('Построчный ввод матрицы ').split())))\n",
        "B = []\n",
        "for i in range(m):\n",
        "  B.append((float(input('Вектор свободных коэффициентов - вводим по одному элементу '))))"
      ],
      "metadata": {
        "colab": {
          "base_uri": "https://localhost:8080/"
        },
        "id": "4LohkVj3cZ-h",
        "outputId": "855f35e5-f38d-457c-db57-3083b9823e6d"
      },
      "execution_count": null,
      "outputs": [
        {
          "name": "stdout",
          "output_type": "stream",
          "text": [
            "Размерность матрицы 3\n",
            "Построчный ввод матрицы 1 1 1\n",
            "Построчный ввод матрицы 2 3 1\n",
            "Построчный ввод матрицы 0 -1 2\n",
            "Вектор свободных коэффициентов - вводим по одному элементу 3\n",
            "Вектор свободных коэффициентов - вводим по одному элементу 6\n",
            "Вектор свободных коэффициентов - вводим по одному элементу 1\n"
          ]
        }
      ]
    },
    {
      "cell_type": "code",
      "source": [
        "# A = [[1.5, 2, 3],[4, 5, 6], [7, 8, 9]]\n",
        "# B = [1, 2, 3]\n",
        "\n",
        "SLAU(A, B)"
      ],
      "metadata": {
        "colab": {
          "base_uri": "https://localhost:8080/"
        },
        "id": "BEXsToCicOyx",
        "outputId": "5a24ec1e-670c-4040-fffd-795f98584679"
      },
      "execution_count": null,
      "outputs": [
        {
          "output_type": "execute_result",
          "data": {
            "text/plain": [
              "array([1., 1., 1.])"
            ]
          },
          "metadata": {},
          "execution_count": 66
        }
      ]
    },
    {
      "cell_type": "code",
      "source": [
        ""
      ],
      "metadata": {
        "id": "OEdJbBGNh-os"
      },
      "execution_count": null,
      "outputs": []
    }
  ]
}