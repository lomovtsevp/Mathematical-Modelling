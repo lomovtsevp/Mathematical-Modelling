{
  "nbformat": 4,
  "nbformat_minor": 0,
  "metadata": {
    "colab": {
      "name": "Matmod_PR5.ipynb",
      "provenance": [],
      "collapsed_sections": [],
      "authorship_tag": "ABX9TyMogu9dx9GL1wOAshUF6cPF",
      "include_colab_link": true
    },
    "kernelspec": {
      "name": "python3",
      "display_name": "Python 3"
    },
    "language_info": {
      "name": "python"
    }
  },
  "cells": [
    {
      "cell_type": "markdown",
      "metadata": {
        "id": "view-in-github",
        "colab_type": "text"
      },
      "source": [
        "<a href=\"https://colab.research.google.com/github/lomovtsevp/Mathematical-Modelling/blob/main/Matmod_PR5.ipynb\" target=\"_parent\"><img src=\"https://colab.research.google.com/assets/colab-badge.svg\" alt=\"Open In Colab\"/></a>"
      ]
    },
    {
      "cell_type": "code",
      "execution_count": null,
      "metadata": {
        "id": "VmR8ZjkyyxjN"
      },
      "outputs": [],
      "source": [
        "import numpy as np\n",
        "from scipy import stats\n",
        "LAMBDA = 0.6"
      ]
    },
    {
      "cell_type": "code",
      "source": [
        "m, n = map(int,input().split())\n",
        "A = []\n",
        "for i in range(m):\n",
        "  A.append(list(map(int,input().split())))"
      ],
      "metadata": {
        "colab": {
          "base_uri": "https://localhost:8080/"
        },
        "id": "OPj2yxCwYkgE",
        "outputId": "595d355a-2545-4f23-ffbf-1f30a30306ab"
      },
      "execution_count": null,
      "outputs": [
        {
          "name": "stdout",
          "output_type": "stream",
          "text": [
            "3 3\n",
            "1 1 2\n",
            "2 3 1\n",
            "0 2 1\n"
          ]
        }
      ]
    },
    {
      "cell_type": "code",
      "source": [
        "def win_strategy(A):\n",
        "  A = np.array(A)\n",
        "  b = np.amax(A, axis = 1)\n",
        "  r = []\n",
        "  for i in range(A.shape[0]):\n",
        "    tp = []\n",
        "    for j in range(A.shape[1]):\n",
        "      tp.append(b[i] - A[i][j])\n",
        "    r.append(tp)\n",
        "  print(A, b, r)\n",
        "  Woltz = np.amax(np.amin(A, axis=1), axis=0)\n",
        "  Optimism = np.amax(np.amax(A, axis=1), axis=0)\n",
        "  Pessimizm = np.amin(np.amin(A, axis=1), axis=0)\n",
        "  Savidge = np.amin(np.amax(r, axis=1), axis=0)\n",
        "  H = np.amax(LAMBDA * np.amax(A, axis=1) + (1 - LAMBDA) * np.amin(A, axis=1), axis=0)\n",
        "  return stats.mode([Woltz, Optimism, Pessimizm, Savidge, H])"
      ],
      "metadata": {
        "id": "8ZaGpXhSXUjV"
      },
      "execution_count": null,
      "outputs": []
    },
    {
      "cell_type": "code",
      "source": [
        "win_strategy(A)"
      ],
      "metadata": {
        "colab": {
          "base_uri": "https://localhost:8080/"
        },
        "id": "moyjPxFiYh_-",
        "outputId": "0c5bd074-2b5b-4d28-f3b9-86033cc3d82f"
      },
      "execution_count": null,
      "outputs": [
        {
          "output_type": "stream",
          "name": "stdout",
          "text": [
            "[[1 1 2]\n",
            " [2 3 1]\n",
            " [0 2 1]] [2 3 2] [[1, 1, 0], [1, 0, 2], [2, 0, 1]]\n"
          ]
        },
        {
          "output_type": "execute_result",
          "data": {
            "text/plain": [
              "ModeResult(mode=array([1.]), count=array([2]))"
            ]
          },
          "metadata": {},
          "execution_count": 85
        }
      ]
    },
    {
      "cell_type": "code",
      "source": [
        ""
      ],
      "metadata": {
        "id": "dL--UV1qZQBp"
      },
      "execution_count": null,
      "outputs": []
    }
  ]
}